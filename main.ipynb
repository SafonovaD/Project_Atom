{
 "cells": [
  {
   "cell_type": "code",
   "execution_count": 83,
   "metadata": {},
   "outputs": [],
   "source": [
    "import json\n",
    "import numpy as np\n",
    "from sklearn.model_selection import KFold, cross_val_score, GridSearchCV\n",
    "from sklearn.svm import SVC\n",
    "from sklearn.feature_extraction.text import TfidfVectorizer\n",
    "from pprint import pprint"
   ]
  },
  {
   "cell_type": "code",
   "execution_count": 84,
   "metadata": {},
   "outputs": [],
   "source": [
    "with open('data.json',encoding='utf-8') as f:\n",
    "    data = json.load(f)"
   ]
  },
  {
   "cell_type": "code",
   "execution_count": 85,
   "metadata": {},
   "outputs": [],
   "source": [
    "rubrics=['' for i in range(len(data))]\n",
    "for i in range(len(data)):\n",
    "    rubrics[i]=data[i]['page'][0]['rubric']"
   ]
  },
  {
   "cell_type": "code",
   "execution_count": 87,
   "metadata": {},
   "outputs": [],
   "source": [
    "rub_uniq=(set(rubrics))\n",
    "rub_uniq_2=(set(rubrics))"
   ]
  },
  {
   "cell_type": "code",
   "execution_count": 93,
   "metadata": {},
   "outputs": [],
   "source": [
    "X=['' for i in range(len(data))]\n",
    "for i in range(len(data)):\n",
    "    X[i]=data[i]['page'][0]['stemedPlaintext']#+data[i]['page'][0]['stemedMetaDescription']"
   ]
  },
  {
   "cell_type": "code",
   "execution_count": 94,
   "metadata": {},
   "outputs": [],
   "source": [
    "N=900\n",
    "TF_IDF=TfidfVectorizer()\n",
    "vectorize=TF_IDF.fit(X[:N])\n",
    "X_train=vectorize.transform(X[:N])\n",
    "X_test=vectorize.transform(X[N:])\n",
    "y_train=rubrics[:N]\n",
    "y_test=rubrics[N:]"
   ]
  },
  {
   "cell_type": "code",
   "execution_count": 96,
   "metadata": {},
   "outputs": [
    {
     "data": {
      "text/plain": [
       "GridSearchCV(cv=KFold(n_splits=5, random_state=241, shuffle=True),\n",
       "       error_score='raise',\n",
       "       estimator=SVC(C=1.0, cache_size=200, class_weight=None, coef0=0.0,\n",
       "  decision_function_shape='ovr', degree=3, gamma='auto', kernel='linear',\n",
       "  max_iter=-1, probability=False, random_state=241, shrinking=True,\n",
       "  tol=0.001, verbose=False),\n",
       "       fit_params=None, iid=True, n_jobs=1,\n",
       "       param_grid={'C': array([1.e-05, 1.e-04, 1.e-03, 1.e-02, 1.e-01, 1.e+00, 1.e+01, 1.e+02,\n",
       "       1.e+03, 1.e+04, 1.e+05])},\n",
       "       pre_dispatch='2*n_jobs', refit=True, return_train_score='warn',\n",
       "       scoring='accuracy', verbose=0)"
      ]
     },
     "execution_count": 96,
     "metadata": {},
     "output_type": "execute_result"
    }
   ],
   "source": [
    "grid = {'C': np.power(10.0, np.arange(-5, 6))}\n",
    "cv = KFold(n_splits=5, shuffle=True, random_state=241)\n",
    "clf = SVC(kernel='linear', random_state=241)\n",
    "gs = GridSearchCV(clf, grid, scoring='accuracy', cv=cv)\n",
    "gs.fit(X_train, y_train)"
   ]
  },
  {
   "cell_type": "code",
   "execution_count": 98,
   "metadata": {},
   "outputs": [
    {
     "name": "stdout",
     "output_type": "stream",
     "text": [
      "0.17777777777777778 {'C': 1e-05}\n",
      "0.17777777777777778 {'C': 0.0001}\n",
      "0.17777777777777778 {'C': 0.001}\n",
      "0.17777777777777778 {'C': 0.01}\n",
      "0.17777777777777778 {'C': 0.1}\n",
      "0.6222222222222222 {'C': 1.0}\n",
      "0.6511111111111111 {'C': 10.0}\n",
      "0.6511111111111111 {'C': 100.0}\n",
      "0.6511111111111111 {'C': 1000.0}\n",
      "0.6511111111111111 {'C': 10000.0}\n",
      "0.6511111111111111 {'C': 100000.0}\n"
     ]
    },
    {
     "name": "stderr",
     "output_type": "stream",
     "text": [
      "C:\\ProgramData\\Anaconda3\\lib\\site-packages\\sklearn\\model_selection\\_search.py:761: DeprecationWarning: The grid_scores_ attribute was deprecated in version 0.18 in favor of the more elaborate cv_results_ attribute. The grid_scores_ attribute will not be available from 0.20\n",
      "  DeprecationWarning)\n"
     ]
    }
   ],
   "source": [
    "for a in gs.grid_scores_:\n",
    "    print(a.mean_validation_score,a.parameters)# — оценка качества по кросс-валидации, значения параметров"
   ]
  },
  {
   "cell_type": "code",
   "execution_count": 99,
   "metadata": {},
   "outputs": [],
   "source": [
    "k=0\n",
    "for j in range(len(rub_uniq)):\n",
    "    r=rub_uniq.pop()\n",
    "    for i in range(len(data)):\n",
    "        if rubrics[i]==r:\n",
    "            rubrics[i]=k\n",
    "    k+=1"
   ]
  },
  {
   "cell_type": "code",
   "execution_count": 100,
   "metadata": {},
   "outputs": [
    {
     "name": "stderr",
     "output_type": "stream",
     "text": [
      "C:\\ProgramData\\Anaconda3\\lib\\site-packages\\sklearn\\model_selection\\_search.py:761: DeprecationWarning: The grid_scores_ attribute was deprecated in version 0.18 in favor of the more elaborate cv_results_ attribute. The grid_scores_ attribute will not be available from 0.20\n",
      "  DeprecationWarning)\n"
     ]
    }
   ],
   "source": [
    "score = 0\n",
    "C = 0\n",
    "for attempt in gs.grid_scores_:\n",
    "    if attempt.mean_validation_score > score:\n",
    "        score = attempt.mean_validation_score\n",
    "        C = attempt.parameters['C']\n",
    "clf = SVC(kernel='linear', random_state=241,C=C)"
   ]
  },
  {
   "cell_type": "code",
   "execution_count": 101,
   "metadata": {},
   "outputs": [],
   "source": [
    "clf.fit(X_train,y_train)\n",
    "c=clf.predict(X_test)"
   ]
  },
  {
   "cell_type": "code",
   "execution_count": 102,
   "metadata": {},
   "outputs": [
    {
     "data": {
      "text/plain": [
       "((900, 21367), (100, 21367))"
      ]
     },
     "execution_count": 102,
     "metadata": {},
     "output_type": "execute_result"
    }
   ],
   "source": [
    "X_train.shape, X_test.shape"
   ]
  },
  {
   "cell_type": "code",
   "execution_count": 103,
   "metadata": {},
   "outputs": [
    {
     "name": "stdout",
     "output_type": "stream",
     "text": [
      "['Россия' 'Россия' 'Интернет и СМИ' 'Россия' 'Спорт' 'Мир' 'Россия'\n",
      " 'Культура' 'Ценности' 'Россия']\n",
      "['Силовые структуры', 'Бывший СССР', 'Интернет и СМИ', 'Россия', 'Спорт', 'Мир', 'Россия', 'Ценности', 'Ценности', 'Экономика']\n"
     ]
    }
   ],
   "source": [
    "print(c[10:20])\n",
    "print(y_test[10:20])"
   ]
  },
  {
   "cell_type": "code",
   "execution_count": 110,
   "metadata": {},
   "outputs": [
    {
     "name": "stdout",
     "output_type": "stream",
     "text": [
      "['Экономика', 'Мир']\n",
      "['Силовые структуры', 'Россия']\n",
      "['Силовые структуры', 'Россия']\n",
      "['Бывший СССР', 'Россия']\n",
      "['Ценности', 'Культура']\n",
      "['Экономика', 'Россия']\n",
      "['Из жизни', 'Мир']\n",
      "['Путешествия', 'Мир']\n",
      "['Бывший СССР', 'Мир']\n",
      "['Силовые структуры', 'Россия']\n",
      "['Силовые структуры', 'Россия']\n",
      "['Путешествия', 'Мир']\n",
      "['Интернет и СМИ', 'Мир']\n",
      "['Россия', 'Силовые структуры']\n",
      "['Ценности', 'Экономика']\n",
      "['Крым', 'Бывший СССР']\n",
      "['Россия', 'Мир']\n",
      "['Из жизни', 'Мир']\n",
      "['Путешествия', 'Мир']\n",
      "['Силовые структуры', 'Россия']\n",
      "['Силовые структуры', 'Россия']\n",
      "['Силовые структуры', 'Россия']\n",
      "['Россия', 'Экономика']\n",
      "['Ценности', 'Из жизни']\n",
      "['Бывший СССР', 'Культура']\n",
      "['Силовые структуры', 'Россия']\n",
      "['Экономика', 'Мир']\n",
      "['', 'Россия']\n"
     ]
    }
   ],
   "source": [
    "k=0\n",
    "er=[]\n",
    "er_c=[]\n",
    "for i in range(1000-N):\n",
    "    if c[i]!=y_test[i]:\n",
    "        er.append(['',''])\n",
    "        er[k][0]=y_test[i]\n",
    "        er[k][1]=c[i]\n",
    "        er_y.append(y_test[i])\n",
    "        er_c.append(c[i])\n",
    "        k+=1\n",
    "        print(er[k-1])\n",
    "#print(set(er))"
   ]
  },
  {
   "cell_type": "code",
   "execution_count": 81,
   "metadata": {},
   "outputs": [],
   "source": [
    "rub_uniq_2=(set(rubrics))"
   ]
  },
  {
   "cell_type": "code",
   "execution_count": 82,
   "metadata": {},
   "outputs": [
    {
     "name": "stdout",
     "output_type": "stream",
     "text": [
      "{0, 1, 2, 3, 4, 5, 6, 7, 8, 9, 10, 11, 12, 13, 14, 15, 16, 17, 18, 19}\n"
     ]
    }
   ],
   "source": [
    "print(rub_uniq_2)"
   ]
  },
  {
   "cell_type": "code",
   "execution_count": null,
   "metadata": {},
   "outputs": [],
   "source": []
  }
 ],
 "metadata": {
  "kernelspec": {
   "display_name": "Python 3",
   "language": "python",
   "name": "python3"
  },
  "language_info": {
   "codemirror_mode": {
    "name": "ipython",
    "version": 3
   },
   "file_extension": ".py",
   "mimetype": "text/x-python",
   "name": "python",
   "nbconvert_exporter": "python",
   "pygments_lexer": "ipython3",
   "version": "3.6.4"
  }
 },
 "nbformat": 4,
 "nbformat_minor": 2
}
